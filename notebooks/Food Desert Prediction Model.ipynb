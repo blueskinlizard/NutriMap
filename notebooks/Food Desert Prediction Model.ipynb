{
 "cells": [
  {
   "cell_type": "code",
   "execution_count": 3,
   "id": "2f563d7b-76b1-45d3-ae94-3d1d868d8f1d",
   "metadata": {},
   "outputs": [],
   "source": [
    "import torch\n",
    "import torch.nn as nn\n",
    "import pandas as pd\n",
    "import numpy as np\n",
    "import matplotlib.pyplot as plt\n",
    "import torch.optim as optim\n",
    "from sklearn.model_selection import train_test_split"
   ]
  },
  {
   "cell_type": "code",
   "execution_count": 4,
   "id": "3cc69c38-8422-4374-910e-2b147263e001",
   "metadata": {},
   "outputs": [
    {
     "data": {
      "text/plain": [
       "'cuda'"
      ]
     },
     "execution_count": 4,
     "metadata": {},
     "output_type": "execute_result"
    }
   ],
   "source": [
    "device = \"cuda\" if torch.cuda.is_available() else \"cpu\"\n",
    "device"
   ]
  },
  {
   "cell_type": "code",
   "execution_count": 9,
   "id": "7ccc34f3-343c-4292-96c6-8ecb60689f61",
   "metadata": {},
   "outputs": [
    {
     "name": "stdout",
     "output_type": "stream",
     "text": [
      "2015 Dataset:    Unnamed: 0   CensusTract  Urban  PovertyRate  MedianFamilyIncome  \\\n",
      "0           0  0.000000e+00    1.0        0.100            0.299000   \n",
      "1           1  1.816698e-09    1.0        0.182            0.207500   \n",
      "2           2  3.633395e-09    1.0        0.191            0.211620   \n",
      "3           3  5.450093e-09    1.0        0.033            0.272316   \n",
      "4           4  7.266791e-09    1.0        0.085            0.311276   \n",
      "\n",
      "   TractLOWI  TractKids  TractSeniors  TractHUNV  TractSNAP  ...  \\\n",
      "0   0.033852   0.042803      0.012796   0.004210   0.052045  ...   \n",
      "1   0.057655   0.051161      0.012391   0.014087   0.093866  ...   \n",
      "2   0.119238   0.075475      0.025418   0.017487   0.055762  ...   \n",
      "3   0.093774   0.085690      0.052342   0.003076   0.038104  ...   \n",
      "4   0.203415   0.266948      0.065196   0.032060   0.226766  ...   \n",
      "\n",
      "   lakids1share  laseniors1share  lahunv1share  lalowi1share   POP2010  \\\n",
      "0      0.209447         0.084988      0.014102      0.168454  0.051027   \n",
      "1      0.088695         0.023492      0.029123      0.066885  0.057916   \n",
      "2      0.123130         0.056330      0.010594      0.206533  0.090038   \n",
      "3      0.086868         0.053928      0.005100      0.093385  0.117086   \n",
      "4      0.073092         0.033594      0.010940      0.057874  0.287442   \n",
      "\n",
      "   LOWIRatio  SNAPRatio  HUNVRatio  FoodInsecurityIndex  LOWIWeighted  \n",
      "0   0.022675   0.014644   0.002266             0.021383      0.004977  \n",
      "1   0.034027   0.023272   0.006682             0.033823      0.015427  \n",
      "2   0.045274   0.008894   0.005336             0.037355      0.033483  \n",
      "3   0.027382   0.004674   0.000722             0.021347      0.004550  \n",
      "4   0.024198   0.011332   0.003065             0.021891      0.025420  \n",
      "\n",
      "[5 rows x 21 columns]\n",
      "2010 Dataset:    Unnamed: 0   CensusTract  Urban  LowIncomeTracts  HUNVFlag   POP2010  \\\n",
      "0           0  0.000000e+00    1.0              0.0       0.0  0.051027   \n",
      "1           1  1.816698e-09    1.0              0.0       0.0  0.057916   \n",
      "2           2  3.633395e-09    1.0              0.0       0.0  0.090038   \n",
      "3           3  5.450093e-09    1.0              0.0       0.0  0.117086   \n",
      "4           4  7.266791e-09    1.0              0.0       1.0  0.287442   \n",
      "\n",
      "   lapop1share  lalowi1share  lakids1share  laseniors1share  ...  TractKids  \\\n",
      "0     0.709980      0.128283      0.717235         0.735282  ...   0.048041   \n",
      "1     0.222779      0.078728      0.288400         0.238209  ...   0.064450   \n",
      "2     0.420360      0.112892      0.421844         0.432805  ...   0.107740   \n",
      "3     0.435311      0.070944      0.463460         0.413773  ...   0.129008   \n",
      "4     0.255773      0.034686      0.235845         0.331995  ...   0.325165   \n",
      "\n",
      "   TractSeniors  TractHUNV  PovertyRate  MedianFamilyIncome  LOWIRatio  \\\n",
      "0      0.024010   0.008186       0.1050            0.999740   0.004782   \n",
      "1      0.019252   0.018828       0.1476            0.999699   0.008980   \n",
      "2      0.031798   0.016536       0.0804            0.999705   0.008767   \n",
      "3      0.046074   0.003111       0.0632            0.999726   0.006260   \n",
      "4      0.042613   0.036509       0.0596            0.999745   0.003787   \n",
      "\n",
      "   SNAPRatio  HUNVRatio  FoodInsecurityIndex  LOWIWeighted  \n",
      "0   0.015690   0.009895             0.006127      0.005762  \n",
      "1   0.022465   0.020052             0.011350      0.017263  \n",
      "2   0.024681   0.011330             0.010563      0.014271  \n",
      "3   0.019836   0.001639             0.007140      0.010416  \n",
      "4   0.009753   0.007837             0.004750      0.014585  \n",
      "\n",
      "[5 rows x 23 columns]\n"
     ]
    }
   ],
   "source": [
    "atlas_data_2015 = pd.read_csv('../data/processed/processed_atlas_2015.csv')\n",
    "atlas_data_2010 = pd.read_csv('../data/processed/processed_2010.csv')\n",
    "print(f'2015 Dataset: {atlas_data_2015.head()}')\n",
    "print(f'2010 Dataset: {atlas_data_2010.head()}')"
   ]
  },
  {
   "cell_type": "code",
   "execution_count": null,
   "id": "deedfc94-31be-4da7-8418-0bd0960d6b2e",
   "metadata": {},
   "outputs": [],
   "source": []
  }
 ],
 "metadata": {
  "kernelspec": {
   "display_name": "Python 3 (ipykernel)",
   "language": "python",
   "name": "python3"
  },
  "language_info": {
   "codemirror_mode": {
    "name": "ipython",
    "version": 3
   },
   "file_extension": ".py",
   "mimetype": "text/x-python",
   "name": "python",
   "nbconvert_exporter": "python",
   "pygments_lexer": "ipython3",
   "version": "3.13.3"
  }
 },
 "nbformat": 4,
 "nbformat_minor": 5
}
