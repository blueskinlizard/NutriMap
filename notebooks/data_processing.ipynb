{
 "cells": [
  {
   "cell_type": "markdown",
   "id": "b4db635f-c356-4bc7-9007-cb262a11d20b",
   "metadata": {},
   "source": [
    "# Processing & Pruning Our Data"
   ]
  },
  {
   "cell_type": "markdown",
   "id": "ec899501-3231-4ddc-9df3-53d851fc83f0",
   "metadata": {},
   "source": [
    "## Import our dependencies"
   ]
  },
  {
   "cell_type": "code",
   "execution_count": 33,
   "id": "453d7b0b-f709-4a22-82dd-b11a99ced707",
   "metadata": {},
   "outputs": [],
   "source": [
    "import pandas as pd\n",
    "import numpy as np\n",
    "from sklearn.preprocessing import MinMaxScaler\n",
    "import os"
   ]
  },
  {
   "cell_type": "markdown",
   "id": "c576844a-a87b-48b4-91c8-846aaf864c69",
   "metadata": {},
   "source": [
    "## Load our datasets"
   ]
  },
  {
   "cell_type": "code",
   "execution_count": 2,
   "id": "60dadea3-f7a3-4b20-b540-2aee6971ae6d",
   "metadata": {},
   "outputs": [],
   "source": [
    "atlas_fifteen_path = '../data/raw/Raw_Atlas_2015/Raw_Atlas_Data_2015.xlsx'\n",
    "fifteen_xl = pd.ExcelFile(atlas_fifteen_path)\n",
    "atlas_ten_path = '../data/raw/Raw_Atlas_2010/Raw_Atlas_Data_2010.xlsx'\n",
    "ten_xl = pd.ExcelFile(atlas_ten_path)\n",
    "\n",
    "atlas_nineteen = pd.read_csv('../data/raw/Raw_Atlas_2019/Raw_Atlas_Data_2019.csv')\n",
    "atlas_fifteen = fifteen_xl.parse('Food Access Research Atlas')\n",
    "atlas_ten = ten_xl.parse('Food Access Research Atlas')"
   ]
  },
  {
   "cell_type": "markdown",
   "id": "a287b241-f5cf-464b-a27e-d99a547e8bdd",
   "metadata": {},
   "source": [
    "## Processing 2019 data for our present-day classification model"
   ]
  },
  {
   "cell_type": "markdown",
   "id": "5b2e41ea-b445-4b30-ba59-71e6add27e0e",
   "metadata": {},
   "source": [
    "The 100+ columns in our table are often redundant and useless for training our model.\n",
    "\n",
    "Let's keep the fundamentals, along with some general data buffer zones for identifying relative isolation + outliers."
   ]
  },
  {
   "cell_type": "code",
   "execution_count": 5,
   "id": "6a354d17-88df-462d-91f0-f371f8a58743",
   "metadata": {},
   "outputs": [],
   "source": [
    "keep_cols = [\n",
    "    'Urban', 'Pop2010', 'PovertyRate', 'MedianFamilyIncome',\n",
    "    'TractLOWI', 'TractKids', 'TractSeniors', 'TractHUNV', 'TractSNAP'\n",
    "]\n",
    "\n",
    "buffer_cols = [\n",
    "    'lapop1share', 'lalowi1share', 'lakids1share', 'laseniors1share',\n",
    "    'lahunv1share', 'lasnap1share'\n",
    "]"
   ]
  },
  {
   "cell_type": "code",
   "execution_count": 27,
   "id": "c17b1ce2-3eca-4f07-8311-e9202d68fe4d",
   "metadata": {},
   "outputs": [],
   "source": [
    "processed_atlas_nineteen = atlas_nineteen[keep_cols + buffer_cols].copy()"
   ]
  },
  {
   "cell_type": "markdown",
   "id": "98f87859-ebc3-46b5-b3fe-ae28bfa90e7d",
   "metadata": {},
   "source": [
    "### Additional features for our 2019 model"
   ]
  },
  {
   "cell_type": "markdown",
   "id": "f18fc037-b499-4580-ba4a-68e2ac790875",
   "metadata": {},
   "source": [
    "#### Simple ratios:"
   ]
  },
  {
   "cell_type": "code",
   "execution_count": 35,
   "id": "da43bbd7-4c58-4ab4-8f37-6a303ec28f86",
   "metadata": {},
   "outputs": [],
   "source": [
    "processed_atlas_nineteen['LOWIRatio'] = processed_atlas_nineteen['TractLOWI'] / processed_atlas_nineteen['Pop2010'] # Low income percentage\n",
    "processed_atlas_nineteen['SNAPRatio'] = processed_atlas_nineteen['TractSNAP'] / processed_atlas_nineteen['Pop2010'] # Percentage of residents receiving SNAP\n",
    "processed_atlas_nineteen['HUNVRatio'] = processed_atlas_nineteen['TractHUNV'] / processed_atlas_nineteen['Pop2010'] # Percentage of residents without a vehicle (important for food deserts!)\n",
    "processed_atlas_nineteen['FoodInsecurityIndex'] = (\n",
    "    processed_atlas_nineteen['LOWIRatio'] +\n",
    "    processed_atlas_nineteen['SNAPRatio'] +\n",
    "    processed_atlas_nineteen['HUNVRatio']\n",
    ")"
   ]
  },
  {
   "cell_type": "markdown",
   "id": "fc0f946a-b12d-4604-982e-596deabc6ba3",
   "metadata": {},
   "source": [
    "#### More complex features:"
   ]
  },
  {
   "cell_type": "code",
   "execution_count": 36,
   "id": "556bd645-7c14-4dff-a565-b5eb8cc82276",
   "metadata": {},
   "outputs": [],
   "source": [
    "processed_atlas_nineteen['SNAPDisparity'] = processed_atlas_nineteen['SNAPRatio'] - processed_atlas_nineteen['lasnap1share']"
   ]
  },
  {
   "cell_type": "markdown",
   "id": "7c471067-fc35-4cbf-9053-deaa0e36e0eb",
   "metadata": {},
   "source": [
    "Our calculated SNAP disparity is how much higher/lower the tract's SNAP is relative to its surrounding area.\n",
    "\n",
    "A high positive disparity would indicate isolated food insecurity, while a negative disparity would show a priveleged pocket inside of a worse-off area."
   ]
  },
  {
   "cell_type": "code",
   "execution_count": 41,
   "id": "3e71ee8f-2cac-4e22-9a8a-1a5cde895237",
   "metadata": {},
   "outputs": [],
   "source": [
    "processed_atlas_nineteen['LOWIWeighted'] = processed_atlas_nineteen['TractLOWI'] * processed_atlas_nineteen['PovertyRate']"
   ]
  },
  {
   "cell_type": "markdown",
   "id": "886facc2-aa71-490a-8182-f8318baf1d97",
   "metadata": {},
   "source": [
    "Our weighted low income emphasizes tracts with both a high number of low-income people and a high poverty rate.\n",
    "\n",
    "This helps create more granular priorization for our model. "
   ]
  },
  {
   "cell_type": "markdown",
   "id": "3aae22cd-75e7-4be5-9ad6-64cc674e7b39",
   "metadata": {},
   "source": [
    "### Scaling our 2019 data before saving to be processed later"
   ]
  },
  {
   "cell_type": "code",
   "execution_count": 42,
   "id": "0d8f1893-c35a-4c67-9c55-024db82aef87",
   "metadata": {},
   "outputs": [],
   "source": [
    "scaler = MinMaxScaler()\n",
    "scaled_processed_atlas_nineteen = scaler.fit_transform(processed_atlas_nineteen)"
   ]
  },
  {
   "cell_type": "markdown",
   "id": "23e4ebd4-7199-49e6-bb49-e22975e684b0",
   "metadata": {},
   "source": [
    "I chose to use sklearn's MinMaxScaler() module over the StandardScaler() module for this project.\n",
    "\n",
    "Given our present-day forecasting model will be using a ReLU for the hidden layer activation function, MinMax scaling shines in this aspect.\n",
    "\n",
    "Our K-Means clustering would work fine with either choice. Given that the feature values in this dataset (proportions, demographic shares, poverty rates) are naturally bounded and positive, MinMaxScaler could also be seen as a natural fit."
   ]
  },
  {
   "cell_type": "markdown",
   "id": "5ddb0f02-c4ed-4a1c-ae09-4de22dac2091",
   "metadata": {},
   "source": [
    "### Save our processed data to be ran through our autoencoder/K-means model"
   ]
  },
  {
   "cell_type": "code",
   "execution_count": 47,
   "id": "22dd952a-6ccf-47d7-a67d-3d5778b59d5d",
   "metadata": {},
   "outputs": [
    {
     "data": {
      "text/html": [
       "<div>\n",
       "<style scoped>\n",
       "    .dataframe tbody tr th:only-of-type {\n",
       "        vertical-align: middle;\n",
       "    }\n",
       "\n",
       "    .dataframe tbody tr th {\n",
       "        vertical-align: top;\n",
       "    }\n",
       "\n",
       "    .dataframe thead th {\n",
       "        text-align: right;\n",
       "    }\n",
       "</style>\n",
       "<table border=\"1\" class=\"dataframe\">\n",
       "  <thead>\n",
       "    <tr style=\"text-align: right;\">\n",
       "      <th></th>\n",
       "      <th>Urban</th>\n",
       "      <th>Pop2010</th>\n",
       "      <th>PovertyRate</th>\n",
       "      <th>MedianFamilyIncome</th>\n",
       "      <th>TractLOWI</th>\n",
       "      <th>TractKids</th>\n",
       "      <th>TractSeniors</th>\n",
       "      <th>TractHUNV</th>\n",
       "      <th>TractSNAP</th>\n",
       "      <th>lapop1share</th>\n",
       "      <th>lalowi1share</th>\n",
       "      <th>lakids1share</th>\n",
       "      <th>laseniors1share</th>\n",
       "      <th>lahunv1share</th>\n",
       "      <th>lasnap1share</th>\n",
       "      <th>LOWIRatio</th>\n",
       "      <th>SNAPRatio</th>\n",
       "      <th>HUNVRatio</th>\n",
       "      <th>FoodInsecurityIndex</th>\n",
       "      <th>SNAPDisparity</th>\n",
       "      <th>LOWIWeighted</th>\n",
       "    </tr>\n",
       "  </thead>\n",
       "  <tbody>\n",
       "    <tr>\n",
       "      <th>0</th>\n",
       "      <td>1.0</td>\n",
       "      <td>0.051027</td>\n",
       "      <td>0.113</td>\n",
       "      <td>0.318183</td>\n",
       "      <td>0.036220</td>\n",
       "      <td>0.042803</td>\n",
       "      <td>0.012796</td>\n",
       "      <td>0.000990</td>\n",
       "      <td>0.046897</td>\n",
       "      <td>0.9919</td>\n",
       "      <td>0.2411</td>\n",
       "      <td>0.289978</td>\n",
       "      <td>0.1144</td>\n",
       "      <td>0.0079</td>\n",
       "      <td>0.1322</td>\n",
       "      <td>0.007051</td>\n",
       "      <td>0.022840</td>\n",
       "      <td>0.000292</td>\n",
       "      <td>0.008725</td>\n",
       "      <td>0.849223</td>\n",
       "      <td>0.006762</td>\n",
       "    </tr>\n",
       "    <tr>\n",
       "      <th>1</th>\n",
       "      <td>1.0</td>\n",
       "      <td>0.057916</td>\n",
       "      <td>0.179</td>\n",
       "      <td>0.187881</td>\n",
       "      <td>0.063843</td>\n",
       "      <td>0.051161</td>\n",
       "      <td>0.012391</td>\n",
       "      <td>0.014689</td>\n",
       "      <td>0.071724</td>\n",
       "      <td>0.5811</td>\n",
       "      <td>0.2783</td>\n",
       "      <td>0.205837</td>\n",
       "      <td>0.0583</td>\n",
       "      <td>0.0900</td>\n",
       "      <td>0.1295</td>\n",
       "      <td>0.010951</td>\n",
       "      <td>0.030778</td>\n",
       "      <td>0.003815</td>\n",
       "      <td>0.014296</td>\n",
       "      <td>0.852045</td>\n",
       "      <td>0.018882</td>\n",
       "    </tr>\n",
       "    <tr>\n",
       "      <th>2</th>\n",
       "      <td>1.0</td>\n",
       "      <td>0.090038</td>\n",
       "      <td>0.150</td>\n",
       "      <td>0.242867</td>\n",
       "      <td>0.103964</td>\n",
       "      <td>0.075475</td>\n",
       "      <td>0.025418</td>\n",
       "      <td>0.016339</td>\n",
       "      <td>0.079080</td>\n",
       "      <td>0.4600</td>\n",
       "      <td>0.1418</td>\n",
       "      <td>0.135903</td>\n",
       "      <td>0.0596</td>\n",
       "      <td>0.0000</td>\n",
       "      <td>0.0587</td>\n",
       "      <td>0.011472</td>\n",
       "      <td>0.021832</td>\n",
       "      <td>0.002730</td>\n",
       "      <td>0.013853</td>\n",
       "      <td>0.921084</td>\n",
       "      <td>0.025766</td>\n",
       "    </tr>\n",
       "    <tr>\n",
       "      <th>3</th>\n",
       "      <td>1.0</td>\n",
       "      <td>0.117086</td>\n",
       "      <td>0.028</td>\n",
       "      <td>0.275182</td>\n",
       "      <td>0.073396</td>\n",
       "      <td>0.085690</td>\n",
       "      <td>0.052342</td>\n",
       "      <td>0.003466</td>\n",
       "      <td>0.045057</td>\n",
       "      <td>0.3109</td>\n",
       "      <td>0.0783</td>\n",
       "      <td>0.086894</td>\n",
       "      <td>0.0539</td>\n",
       "      <td>0.0046</td>\n",
       "      <td>0.0176</td>\n",
       "      <td>0.006229</td>\n",
       "      <td>0.009566</td>\n",
       "      <td>0.000445</td>\n",
       "      <td>0.007032</td>\n",
       "      <td>0.961000</td>\n",
       "      <td>0.003395</td>\n",
       "    </tr>\n",
       "    <tr>\n",
       "      <th>4</th>\n",
       "      <td>1.0</td>\n",
       "      <td>0.287442</td>\n",
       "      <td>0.152</td>\n",
       "      <td>0.379128</td>\n",
       "      <td>0.178475</td>\n",
       "      <td>0.266948</td>\n",
       "      <td>0.065196</td>\n",
       "      <td>0.037960</td>\n",
       "      <td>0.155862</td>\n",
       "      <td>0.2455</td>\n",
       "      <td>0.0545</td>\n",
       "      <td>0.073128</td>\n",
       "      <td>0.0336</td>\n",
       "      <td>0.0135</td>\n",
       "      <td>0.0204</td>\n",
       "      <td>0.006170</td>\n",
       "      <td>0.013481</td>\n",
       "      <td>0.001987</td>\n",
       "      <td>0.007736</td>\n",
       "      <td>0.958351</td>\n",
       "      <td>0.044822</td>\n",
       "    </tr>\n",
       "  </tbody>\n",
       "</table>\n",
       "</div>"
      ],
      "text/plain": [
       "   Urban   Pop2010  PovertyRate  MedianFamilyIncome  TractLOWI  TractKids  \\\n",
       "0    1.0  0.051027        0.113            0.318183   0.036220   0.042803   \n",
       "1    1.0  0.057916        0.179            0.187881   0.063843   0.051161   \n",
       "2    1.0  0.090038        0.150            0.242867   0.103964   0.075475   \n",
       "3    1.0  0.117086        0.028            0.275182   0.073396   0.085690   \n",
       "4    1.0  0.287442        0.152            0.379128   0.178475   0.266948   \n",
       "\n",
       "   TractSeniors  TractHUNV  TractSNAP  lapop1share  lalowi1share  \\\n",
       "0      0.012796   0.000990   0.046897       0.9919        0.2411   \n",
       "1      0.012391   0.014689   0.071724       0.5811        0.2783   \n",
       "2      0.025418   0.016339   0.079080       0.4600        0.1418   \n",
       "3      0.052342   0.003466   0.045057       0.3109        0.0783   \n",
       "4      0.065196   0.037960   0.155862       0.2455        0.0545   \n",
       "\n",
       "   lakids1share  laseniors1share  lahunv1share  lasnap1share  LOWIRatio  \\\n",
       "0      0.289978           0.1144        0.0079        0.1322   0.007051   \n",
       "1      0.205837           0.0583        0.0900        0.1295   0.010951   \n",
       "2      0.135903           0.0596        0.0000        0.0587   0.011472   \n",
       "3      0.086894           0.0539        0.0046        0.0176   0.006229   \n",
       "4      0.073128           0.0336        0.0135        0.0204   0.006170   \n",
       "\n",
       "   SNAPRatio  HUNVRatio  FoodInsecurityIndex  SNAPDisparity  LOWIWeighted  \n",
       "0   0.022840   0.000292             0.008725       0.849223      0.006762  \n",
       "1   0.030778   0.003815             0.014296       0.852045      0.018882  \n",
       "2   0.021832   0.002730             0.013853       0.921084      0.025766  \n",
       "3   0.009566   0.000445             0.007032       0.961000      0.003395  \n",
       "4   0.013481   0.001987             0.007736       0.958351      0.044822  "
      ]
     },
     "execution_count": 47,
     "metadata": {},
     "output_type": "execute_result"
    }
   ],
   "source": [
    "final_atlas_nineteen = pd.DataFrame(scaled_processed_atlas_nineteen, columns=processed_atlas_nineteen.columns)\n",
    "final_atlas_nineteen.head()"
   ]
  },
  {
   "cell_type": "code",
   "execution_count": 48,
   "id": "2e68a5d9-3e7d-4a16-b1f2-a2785454bcdf",
   "metadata": {},
   "outputs": [],
   "source": [
    "final_atlas_nineteen.to_csv(\"../data/processed/processed_atlas_nineteen.csv\")"
   ]
  },
  {
   "cell_type": "code",
   "execution_count": null,
   "id": "a08bfab8-eb93-4548-8960-c3f23855e21f",
   "metadata": {},
   "outputs": [],
   "source": []
  }
 ],
 "metadata": {
  "kernelspec": {
   "display_name": "Python 3 (ipykernel)",
   "language": "python",
   "name": "python3"
  },
  "language_info": {
   "codemirror_mode": {
    "name": "ipython",
    "version": 3
   },
   "file_extension": ".py",
   "mimetype": "text/x-python",
   "name": "python",
   "nbconvert_exporter": "python",
   "pygments_lexer": "ipython3",
   "version": "3.13.3"
  }
 },
 "nbformat": 4,
 "nbformat_minor": 5
}
