{
 "cells": [
  {
   "cell_type": "code",
   "execution_count": 1,
   "id": "08e7d1bb-ee71-491d-9d5d-f7bf74154150",
   "metadata": {},
   "outputs": [],
   "source": [
    "import torch\n",
    "import pandas as pd\n",
    "import numpy as np\n",
    "from sklearn.cluster import KMeans\n",
    "import torch.nn as nn\n",
    "import torch.optim as optim\n",
    "from sklearn.model_selection import train_test_split\n",
    "from torch.utils.data import DataLoader, TensorDataset, random_split\n",
    "from sklearn.decomposition import PCA\n",
    "import matplotlib.pyplot as plt"
   ]
  },
  {
   "cell_type": "code",
   "execution_count": 2,
   "id": "4c30d07a-b463-4338-97f5-101809966cc2",
   "metadata": {},
   "outputs": [
    {
     "data": {
      "text/plain": [
       "'cuda'"
      ]
     },
     "execution_count": 2,
     "metadata": {},
     "output_type": "execute_result"
    }
   ],
   "source": [
    "device = \"cuda\" if torch.cuda.is_available() else \"cpu\"\n",
    "device"
   ]
  },
  {
   "cell_type": "code",
   "execution_count": 3,
   "id": "27d59733-0ad5-42c7-9cfb-338716eebcdc",
   "metadata": {},
   "outputs": [
    {
     "name": "stdout",
     "output_type": "stream",
     "text": [
      "Column amt: 21\n"
     ]
    }
   ],
   "source": [
    "raw_atlas = pd.read_csv('../data/processed/processed_atlas_2019.csv')\n",
    "print(f'Column amt: {len(raw_atlas.columns)}')"
   ]
  },
  {
   "cell_type": "code",
   "execution_count": 4,
   "id": "8f2e9bf4-895d-484d-816a-23905513ea85",
   "metadata": {},
   "outputs": [
    {
     "data": {
      "text/html": [
       "<div>\n",
       "<style scoped>\n",
       "    .dataframe tbody tr th:only-of-type {\n",
       "        vertical-align: middle;\n",
       "    }\n",
       "\n",
       "    .dataframe tbody tr th {\n",
       "        vertical-align: top;\n",
       "    }\n",
       "\n",
       "    .dataframe thead th {\n",
       "        text-align: right;\n",
       "    }\n",
       "</style>\n",
       "<table border=\"1\" class=\"dataframe\">\n",
       "  <thead>\n",
       "    <tr style=\"text-align: right;\">\n",
       "      <th></th>\n",
       "      <th>Unnamed: 0</th>\n",
       "      <th>CensusTract</th>\n",
       "      <th>Urban</th>\n",
       "      <th>PovertyRate</th>\n",
       "      <th>MedianFamilyIncome</th>\n",
       "      <th>TractLOWI</th>\n",
       "      <th>TractKids</th>\n",
       "      <th>TractSeniors</th>\n",
       "      <th>TractHUNV</th>\n",
       "      <th>TractSNAP</th>\n",
       "      <th>...</th>\n",
       "      <th>lakids1share</th>\n",
       "      <th>laseniors1share</th>\n",
       "      <th>lahunv1share</th>\n",
       "      <th>lalowi1share</th>\n",
       "      <th>Pop2010</th>\n",
       "      <th>LOWIRatio</th>\n",
       "      <th>SNAPRatio</th>\n",
       "      <th>HUNVRatio</th>\n",
       "      <th>FoodInsecurityIndex</th>\n",
       "      <th>LOWIWeighted</th>\n",
       "    </tr>\n",
       "  </thead>\n",
       "  <tbody>\n",
       "    <tr>\n",
       "      <th>0</th>\n",
       "      <td>0</td>\n",
       "      <td>0.000000e+00</td>\n",
       "      <td>1.0</td>\n",
       "      <td>0.113</td>\n",
       "      <td>0.318183</td>\n",
       "      <td>0.036220</td>\n",
       "      <td>0.042803</td>\n",
       "      <td>0.012796</td>\n",
       "      <td>0.000990</td>\n",
       "      <td>0.046897</td>\n",
       "      <td>...</td>\n",
       "      <td>0.289978</td>\n",
       "      <td>0.1144</td>\n",
       "      <td>0.0079</td>\n",
       "      <td>0.2411</td>\n",
       "      <td>0.051027</td>\n",
       "      <td>0.007051</td>\n",
       "      <td>0.022840</td>\n",
       "      <td>0.000292</td>\n",
       "      <td>0.008725</td>\n",
       "      <td>0.006762</td>\n",
       "    </tr>\n",
       "    <tr>\n",
       "      <th>1</th>\n",
       "      <td>1</td>\n",
       "      <td>1.816698e-09</td>\n",
       "      <td>1.0</td>\n",
       "      <td>0.179</td>\n",
       "      <td>0.187881</td>\n",
       "      <td>0.063843</td>\n",
       "      <td>0.051161</td>\n",
       "      <td>0.012391</td>\n",
       "      <td>0.014689</td>\n",
       "      <td>0.071724</td>\n",
       "      <td>...</td>\n",
       "      <td>0.205837</td>\n",
       "      <td>0.0583</td>\n",
       "      <td>0.0900</td>\n",
       "      <td>0.2783</td>\n",
       "      <td>0.057916</td>\n",
       "      <td>0.010951</td>\n",
       "      <td>0.030778</td>\n",
       "      <td>0.003815</td>\n",
       "      <td>0.014296</td>\n",
       "      <td>0.018882</td>\n",
       "    </tr>\n",
       "    <tr>\n",
       "      <th>2</th>\n",
       "      <td>2</td>\n",
       "      <td>3.633395e-09</td>\n",
       "      <td>1.0</td>\n",
       "      <td>0.150</td>\n",
       "      <td>0.242867</td>\n",
       "      <td>0.103964</td>\n",
       "      <td>0.075475</td>\n",
       "      <td>0.025418</td>\n",
       "      <td>0.016339</td>\n",
       "      <td>0.079080</td>\n",
       "      <td>...</td>\n",
       "      <td>0.135903</td>\n",
       "      <td>0.0596</td>\n",
       "      <td>0.0000</td>\n",
       "      <td>0.1418</td>\n",
       "      <td>0.090038</td>\n",
       "      <td>0.011472</td>\n",
       "      <td>0.021832</td>\n",
       "      <td>0.002730</td>\n",
       "      <td>0.013853</td>\n",
       "      <td>0.025766</td>\n",
       "    </tr>\n",
       "    <tr>\n",
       "      <th>3</th>\n",
       "      <td>3</td>\n",
       "      <td>5.450093e-09</td>\n",
       "      <td>1.0</td>\n",
       "      <td>0.028</td>\n",
       "      <td>0.275182</td>\n",
       "      <td>0.073396</td>\n",
       "      <td>0.085690</td>\n",
       "      <td>0.052342</td>\n",
       "      <td>0.003466</td>\n",
       "      <td>0.045057</td>\n",
       "      <td>...</td>\n",
       "      <td>0.086894</td>\n",
       "      <td>0.0539</td>\n",
       "      <td>0.0046</td>\n",
       "      <td>0.0783</td>\n",
       "      <td>0.117086</td>\n",
       "      <td>0.006229</td>\n",
       "      <td>0.009566</td>\n",
       "      <td>0.000445</td>\n",
       "      <td>0.007032</td>\n",
       "      <td>0.003395</td>\n",
       "    </tr>\n",
       "    <tr>\n",
       "      <th>4</th>\n",
       "      <td>4</td>\n",
       "      <td>7.266791e-09</td>\n",
       "      <td>1.0</td>\n",
       "      <td>0.152</td>\n",
       "      <td>0.379128</td>\n",
       "      <td>0.178475</td>\n",
       "      <td>0.266948</td>\n",
       "      <td>0.065196</td>\n",
       "      <td>0.037960</td>\n",
       "      <td>0.155862</td>\n",
       "      <td>...</td>\n",
       "      <td>0.073128</td>\n",
       "      <td>0.0336</td>\n",
       "      <td>0.0135</td>\n",
       "      <td>0.0545</td>\n",
       "      <td>0.287442</td>\n",
       "      <td>0.006170</td>\n",
       "      <td>0.013481</td>\n",
       "      <td>0.001987</td>\n",
       "      <td>0.007736</td>\n",
       "      <td>0.044822</td>\n",
       "    </tr>\n",
       "  </tbody>\n",
       "</table>\n",
       "<p>5 rows × 21 columns</p>\n",
       "</div>"
      ],
      "text/plain": [
       "   Unnamed: 0   CensusTract  Urban  PovertyRate  MedianFamilyIncome  \\\n",
       "0           0  0.000000e+00    1.0        0.113            0.318183   \n",
       "1           1  1.816698e-09    1.0        0.179            0.187881   \n",
       "2           2  3.633395e-09    1.0        0.150            0.242867   \n",
       "3           3  5.450093e-09    1.0        0.028            0.275182   \n",
       "4           4  7.266791e-09    1.0        0.152            0.379128   \n",
       "\n",
       "   TractLOWI  TractKids  TractSeniors  TractHUNV  TractSNAP  ...  \\\n",
       "0   0.036220   0.042803      0.012796   0.000990   0.046897  ...   \n",
       "1   0.063843   0.051161      0.012391   0.014689   0.071724  ...   \n",
       "2   0.103964   0.075475      0.025418   0.016339   0.079080  ...   \n",
       "3   0.073396   0.085690      0.052342   0.003466   0.045057  ...   \n",
       "4   0.178475   0.266948      0.065196   0.037960   0.155862  ...   \n",
       "\n",
       "   lakids1share  laseniors1share  lahunv1share  lalowi1share   Pop2010  \\\n",
       "0      0.289978           0.1144        0.0079        0.2411  0.051027   \n",
       "1      0.205837           0.0583        0.0900        0.2783  0.057916   \n",
       "2      0.135903           0.0596        0.0000        0.1418  0.090038   \n",
       "3      0.086894           0.0539        0.0046        0.0783  0.117086   \n",
       "4      0.073128           0.0336        0.0135        0.0545  0.287442   \n",
       "\n",
       "   LOWIRatio  SNAPRatio  HUNVRatio  FoodInsecurityIndex  LOWIWeighted  \n",
       "0   0.007051   0.022840   0.000292             0.008725      0.006762  \n",
       "1   0.010951   0.030778   0.003815             0.014296      0.018882  \n",
       "2   0.011472   0.021832   0.002730             0.013853      0.025766  \n",
       "3   0.006229   0.009566   0.000445             0.007032      0.003395  \n",
       "4   0.006170   0.013481   0.001987             0.007736      0.044822  \n",
       "\n",
       "[5 rows x 21 columns]"
      ]
     },
     "execution_count": 4,
     "metadata": {},
     "output_type": "execute_result"
    }
   ],
   "source": [
    "raw_atlas.head()"
   ]
  },
  {
   "cell_type": "code",
   "execution_count": 20,
   "id": "965b38bd-f4bf-422a-9528-ce1ea7b9819e",
   "metadata": {},
   "outputs": [],
   "source": [
    "input_columns = [\n",
    "    'Urban', 'PovertyRate', 'MedianFamilyIncome', 'TractLOWI', 'TractKids', 'TractSeniors',\n",
    "    'TractHUNV', 'TractSNAP', 'lapop1share', 'laseniors1share', 'lahunv1share', 'lasnap1share',\n",
    "    'Pop2010', 'LOWIRatio', 'SNAPRatio', 'HUNVRatio', 'FoodInsecurityIndex',\n",
    "    'SNAPDisparity', 'LOWIWeighted' \n",
    "]"
   ]
  },
  {
   "cell_type": "code",
   "execution_count": 21,
   "id": "82fd90d0-8e7c-45b8-a5ea-6bbe7e0524df",
   "metadata": {},
   "outputs": [],
   "source": [
    "class Autoencoder_Food_Desert_Model(nn.Module):\n",
    "    def __init__(self, input_dim=22, latent_dim=8):\n",
    "        super(Autoencoder_Food_Desert_Model, self).__init__()\n",
    "        \n",
    "        #Encode our dimensions\n",
    "        self.encoder = nn.Sequential(\n",
    "            nn.Linear(input_dim, 16),\n",
    "            nn.ReLU(True),\n",
    "            nn.Linear(16, 12),\n",
    "            nn.ReLU(True),\n",
    "            nn.Linear(12, latent_dim)\n",
    "        )\n",
    "        \n",
    "        #Decoding these dimensions\n",
    "        self.decoder = nn.Sequential(\n",
    "            nn.Linear(latent_dim, 12),\n",
    "            nn.ReLU(True),\n",
    "            nn.Linear(12, 16),\n",
    "            nn.ReLU(True),\n",
    "            nn.Linear(16, input_dim),\n",
    "            nn.Sigmoid()\n",
    "        )\n",
    "\n",
    "    def forward(self, input):\n",
    "        encoding_result = self.encoder(input)\n",
    "        decoding_output = self.decoder(encoding_result)\n",
    "        return decoding_output\n"
   ]
  },
  {
   "cell_type": "code",
   "execution_count": 22,
   "id": "2629f6dc-cf11-494d-963b-d22faaee32d1",
   "metadata": {},
   "outputs": [
    {
     "data": {
      "text/plain": [
       "torch.Size([72531, 19])"
      ]
     },
     "execution_count": 22,
     "metadata": {},
     "output_type": "execute_result"
    }
   ],
   "source": [
    "atlas_tensor = torch.tensor(raw_atlas[input_columns].to_numpy(), dtype=torch.float32)\n",
    "atlas_tensor.shape"
   ]
  },
  {
   "cell_type": "code",
   "execution_count": 23,
   "id": "300c2e18-8762-4dc0-82c4-0b5b0120914a",
   "metadata": {},
   "outputs": [
    {
     "name": "stdout",
     "output_type": "stream",
     "text": [
      "tensor(0.) tensor(1.)\n"
     ]
    }
   ],
   "source": [
    "print(torch.min(atlas_tensor), torch.max(atlas_tensor))"
   ]
  },
  {
   "cell_type": "code",
   "execution_count": 24,
   "id": "db274509-8b09-4f94-8ee7-2a61011ce5dc",
   "metadata": {},
   "outputs": [],
   "source": [
    "train_size = int(0.9 * len(atlas_tensor))\n",
    "val_size = len(atlas_tensor) - train_size\n",
    "train_dataset, val_dataset = random_split(atlas_tensor, [train_size, val_size])"
   ]
  },
  {
   "cell_type": "code",
   "execution_count": 25,
   "id": "4826ec2a-ba6b-4f60-b75c-a967dcc1f91c",
   "metadata": {},
   "outputs": [],
   "source": [
    "train_loader = DataLoader(train_dataset, batch_size=64, shuffle=True)\n",
    "val_loader = DataLoader(val_dataset, batch_size=64, shuffle=False)"
   ]
  },
  {
   "cell_type": "code",
   "execution_count": 28,
   "id": "48a0c318-20c9-4aa2-909e-65a5031fdee5",
   "metadata": {},
   "outputs": [],
   "source": [
    "model = Autoencoder_Food_Desert_Model(input_dim=19, latent_dim=8).to(device)\n",
    "criterion = nn.MSELoss()\n",
    "optimizer = optim.Adam(model.parameters(), lr=0.001)\n",
    "epochs = 50"
   ]
  },
  {
   "cell_type": "code",
   "execution_count": 29,
   "id": "0ae0cef2-e616-40dc-98dc-7e9e0a449905",
   "metadata": {},
   "outputs": [
    {
     "name": "stdout",
     "output_type": "stream",
     "text": [
      "Epoch 1/50 | Train Loss: 0.008675 | Val Loss: 0.004798\n",
      "Epoch 2/50 | Train Loss: 0.003157 | Val Loss: 0.001677\n",
      "Epoch 3/50 | Train Loss: 0.001413 | Val Loss: 0.001384\n",
      "Epoch 4/50 | Train Loss: 0.001219 | Val Loss: 0.001116\n",
      "Epoch 5/50 | Train Loss: 0.000911 | Val Loss: 0.001032\n",
      "Epoch 6/50 | Train Loss: 0.000784 | Val Loss: 0.000753\n",
      "Epoch 7/50 | Train Loss: 0.000672 | Val Loss: 0.000627\n",
      "Epoch 8/50 | Train Loss: 0.000633 | Val Loss: 0.000609\n",
      "Epoch 9/50 | Train Loss: 0.000609 | Val Loss: 0.000617\n",
      "Epoch 10/50 | Train Loss: 0.000604 | Val Loss: 0.000597\n",
      "Epoch 11/50 | Train Loss: 0.000657 | Val Loss: 0.000583\n",
      "Epoch 12/50 | Train Loss: 0.000581 | Val Loss: 0.000551\n",
      "Epoch 13/50 | Train Loss: 0.000590 | Val Loss: 0.000535\n",
      "Epoch 14/50 | Train Loss: 0.000549 | Val Loss: 0.000528\n",
      "Epoch 15/50 | Train Loss: 0.000521 | Val Loss: 0.000476\n",
      "Epoch 16/50 | Train Loss: 0.000504 | Val Loss: 0.000448\n",
      "Epoch 17/50 | Train Loss: 0.000459 | Val Loss: 0.000426\n",
      "Epoch 18/50 | Train Loss: 0.000388 | Val Loss: 0.000394\n",
      "Epoch 19/50 | Train Loss: 0.000407 | Val Loss: 0.000360\n",
      "Epoch 20/50 | Train Loss: 0.000329 | Val Loss: 0.000327\n",
      "Epoch 21/50 | Train Loss: 0.000316 | Val Loss: 0.000337\n",
      "Epoch 22/50 | Train Loss: 0.000297 | Val Loss: 0.000287\n",
      "Epoch 23/50 | Train Loss: 0.000278 | Val Loss: 0.000278\n",
      "Epoch 24/50 | Train Loss: 0.000253 | Val Loss: 0.000248\n",
      "Epoch 25/50 | Train Loss: 0.000303 | Val Loss: 0.000276\n",
      "Epoch 26/50 | Train Loss: 0.000240 | Val Loss: 0.000256\n",
      "Epoch 27/50 | Train Loss: 0.000248 | Val Loss: 0.000257\n",
      "Epoch 28/50 | Train Loss: 0.000228 | Val Loss: 0.000255\n",
      "Epoch 29/50 | Train Loss: 0.000235 | Val Loss: 0.000267\n",
      "Epoch 30/50 | Train Loss: 0.000250 | Val Loss: 0.000240\n",
      "Epoch 31/50 | Train Loss: 0.000235 | Val Loss: 0.000262\n",
      "Epoch 32/50 | Train Loss: 0.000220 | Val Loss: 0.000251\n",
      "Epoch 33/50 | Train Loss: 0.000251 | Val Loss: 0.000260\n",
      "Epoch 34/50 | Train Loss: 0.000243 | Val Loss: 0.000264\n",
      "Epoch 35/50 | Train Loss: 0.000226 | Val Loss: 0.000274\n",
      "Epoch 36/50 | Train Loss: 0.000241 | Val Loss: 0.000276\n",
      "Epoch 37/50 | Train Loss: 0.000235 | Val Loss: 0.000258\n",
      "Epoch 38/50 | Train Loss: 0.000251 | Val Loss: 0.000237\n",
      "Epoch 39/50 | Train Loss: 0.000206 | Val Loss: 0.000270\n",
      "Epoch 40/50 | Train Loss: 0.000235 | Val Loss: 0.000239\n",
      "Epoch 41/50 | Train Loss: 0.000217 | Val Loss: 0.000246\n",
      "Epoch 42/50 | Train Loss: 0.000238 | Val Loss: 0.000236\n",
      "Epoch 43/50 | Train Loss: 0.000213 | Val Loss: 0.000245\n",
      "Epoch 44/50 | Train Loss: 0.000253 | Val Loss: 0.000239\n",
      "Epoch 45/50 | Train Loss: 0.000246 | Val Loss: 0.000266\n",
      "Epoch 46/50 | Train Loss: 0.000197 | Val Loss: 0.000231\n",
      "Epoch 47/50 | Train Loss: 0.000205 | Val Loss: 0.000228\n",
      "Epoch 48/50 | Train Loss: 0.000237 | Val Loss: 0.000242\n",
      "Epoch 49/50 | Train Loss: 0.000209 | Val Loss: 0.000235\n",
      "Epoch 50/50 | Train Loss: 0.000207 | Val Loss: 0.000243\n"
     ]
    }
   ],
   "source": [
    "for epoch in range(epochs):\n",
    "    model.train()\n",
    "    train_loss = 0.0\n",
    "    for batch in train_loader:\n",
    "        inputs = batch[0].to(device)\n",
    "        outputs = model(inputs)\n",
    "        loss = criterion(outputs, inputs)\n",
    "\n",
    "        optimizer.zero_grad()\n",
    "        loss.backward()\n",
    "        optimizer.step()\n",
    "\n",
    "        train_loss += loss.item() * inputs.size(0)\n",
    "\n",
    "    model.eval()\n",
    "    val_loss = 0.0\n",
    "    with torch.no_grad():\n",
    "        for batch in val_loader:\n",
    "            inputs = batch[0].to(device)\n",
    "            outputs = model(inputs)\n",
    "            loss = criterion(outputs, inputs)\n",
    "            val_loss += loss.item() * inputs.size(0)\n",
    "                \n",
    "    print(f\"Epoch {epoch+1}/{epochs} | Train Loss: {train_loss/len(train_loader.dataset):.6f} | Val Loss: {val_loss/len(val_loader.dataset):.6f}\")"
   ]
  },
  {
   "cell_type": "code",
   "execution_count": 30,
   "id": "40d92044-613e-4262-be01-70befa1f69aa",
   "metadata": {},
   "outputs": [],
   "source": [
    "model.eval()\n",
    "with torch.no_grad():\n",
    "    latent_vectors = model.encoder(atlas_tensor.to(device)).cpu().numpy()"
   ]
  },
  {
   "cell_type": "code",
   "execution_count": 31,
   "id": "3b997867-2b73-41d5-b3a6-2903ce5c8a65",
   "metadata": {},
   "outputs": [],
   "source": [
    "kmeans = KMeans(n_clusters=3, random_state=42)\n",
    "cluster_labels = kmeans.fit_predict(latent_vectors)"
   ]
  },
  {
   "cell_type": "code",
   "execution_count": 32,
   "id": "8a77b08b-6ea1-4e89-978e-6b4b9afb8266",
   "metadata": {},
   "outputs": [],
   "source": [
    "clustered_df = raw_atlas.copy()\n",
    "clustered_df['Cluster'] = cluster_labels"
   ]
  },
  {
   "cell_type": "code",
   "execution_count": 34,
   "id": "eee1073c-4784-438a-b38d-dc8ae344aabb",
   "metadata": {},
   "outputs": [
    {
     "data": {
      "image/png": "[encoded data removed]",
      "text/plain": [
       "<Figure size 800x600 with 2 Axes>"
      ]
     },
     "metadata": {},
     "output_type": "display_data"
    }
   ],
   "source": [
    "pca = PCA(n_components=2)\n",
    "latent_2d = pca.fit_transform(latent_vectors)\n",
    "\n",
    "plt.figure(figsize=(8, 6))\n",
    "scatter = plt.scatter(latent_2d[:, 0], latent_2d[:, 1], c=cluster_labels, cmap='viridis', s=10)\n",
    "plt.title('KMeans Clusters in Latent Space (PCA Projection)')\n",
    "plt.xlabel('PC 1')\n",
    "plt.ylabel('PC 2')\n",
    "plt.colorbar(scatter, label='Cluster')\n",
    "plt.grid(True)\n",
    "plt.show()"
   ]
  },
  {
   "cell_type": "code",
   "execution_count": 35,
   "id": "cdda9ce2-4d38-4db6-9354-951fa12faae8",
   "metadata": {},
   "outputs": [
    {
     "data": {
      "text/html": [
       "<div>\n",
       "<style scoped>\n",
       "    .dataframe tbody tr th:only-of-type {\n",
       "        vertical-align: middle;\n",
       "    }\n",
       "\n",
       "    .dataframe tbody tr th {\n",
       "        vertical-align: top;\n",
       "    }\n",
       "\n",
       "    .dataframe thead th {\n",
       "        text-align: right;\n",
       "    }\n",
       "</style>\n",
       "<table border=\"1\" class=\"dataframe\">\n",
       "  <thead>\n",
       "    <tr style=\"text-align: right;\">\n",
       "      <th></th>\n",
       "      <th>PovertyRate</th>\n",
       "      <th>SNAPRatio</th>\n",
       "      <th>LOWIRatio</th>\n",
       "      <th>FoodInsecurityIndex</th>\n",
       "    </tr>\n",
       "    <tr>\n",
       "      <th>Cluster</th>\n",
       "      <th></th>\n",
       "      <th></th>\n",
       "      <th></th>\n",
       "      <th></th>\n",
       "    </tr>\n",
       "  </thead>\n",
       "  <tbody>\n",
       "    <tr>\n",
       "      <th>0</th>\n",
       "      <td>0.203763</td>\n",
       "      <td>0.030147</td>\n",
       "      <td>0.012642</td>\n",
       "      <td>0.016258</td>\n",
       "    </tr>\n",
       "    <tr>\n",
       "      <th>1</th>\n",
       "      <td>0.142494</td>\n",
       "      <td>0.020344</td>\n",
       "      <td>0.009848</td>\n",
       "      <td>0.011846</td>\n",
       "    </tr>\n",
       "    <tr>\n",
       "      <th>2</th>\n",
       "      <td>0.067773</td>\n",
       "      <td>0.008219</td>\n",
       "      <td>0.005253</td>\n",
       "      <td>0.006733</td>\n",
       "    </tr>\n",
       "  </tbody>\n",
       "</table>\n",
       "</div>"
      ],
      "text/plain": [
       "         PovertyRate  SNAPRatio  LOWIRatio  FoodInsecurityIndex\n",
       "Cluster                                                        \n",
       "0           0.203763   0.030147   0.012642             0.016258\n",
       "1           0.142494   0.020344   0.009848             0.011846\n",
       "2           0.067773   0.008219   0.005253             0.006733"
      ]
     },
     "execution_count": 35,
     "metadata": {},
     "output_type": "execute_result"
    }
   ],
   "source": [
    "clustered_df.groupby('Cluster').mean(numeric_only=True)[['PovertyRate', 'SNAPRatio', 'LOWIRatio', 'FoodInsecurityIndex']]"
   ]
  },
  {
   "cell_type": "code",
   "execution_count": 36,
   "id": "e00710b0-8c77-418d-a1ff-63e57e605818",
   "metadata": {},
   "outputs": [],
   "source": [
    "clustered_df.to_csv('../data/processed/clustered_atlas_data.csv', index=False)"
   ]
  },
  {
   "cell_type": "code",
   "execution_count": null,
   "id": "328a07f5-3f4d-499a-b814-5675fdd5d1db",
   "metadata": {},
   "outputs": [],
   "source": []
  }
 ],
 "metadata": {
  "kernelspec": {
   "display_name": "Python 3 (ipykernel)",
   "language": "python",
   "name": "python3"
  },
  "language_info": {
   "codemirror_mode": {
    "name": "ipython",
    "version": 3
   },
   "file_extension": ".py",
   "mimetype": "text/x-python",
   "name": "python",
   "nbconvert_exporter": "python",
   "pygments_lexer": "ipython3",
   "version": "3.13.3"
  }
 },
 "nbformat": 4,
 "nbformat_minor": 5
}
